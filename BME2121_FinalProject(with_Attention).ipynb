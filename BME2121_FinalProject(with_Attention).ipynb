{
  "nbformat": 4,
  "nbformat_minor": 0,
  "metadata": {
    "colab": {
      "name": "BME2121: FinalProject(with Attention).ipynb",
      "provenance": [],
      "collapsed_sections": []
    },
    "kernelspec": {
      "display_name": "Python 3",
      "name": "python3"
    },
    "language_info": {
      "name": "python"
    }
  },
  "cells": [
    {
      "cell_type": "code",
      "metadata": {
        "id": "j0KhO50DwIay"
      },
      "source": [
        "#originally runnable on google collab\n",
        "import numpy as np\n",
        "from keras.models import Sequential\n",
        "from keras.layers import LSTM\n",
        "from keras.layers import Dense, Dropout, Lambda, Dot, Activation, Concatenate, Layer\n",
        "import pandas as pd\n",
        "from matplotlib import pyplot as plt\n",
        "from sklearn.preprocessing import StandardScaler\n",
        "import seaborn as sns\n",
        "from datetime import datetime"
      ],
      "execution_count": null,
      "outputs": []
    },
    {
      "cell_type": "code",
      "metadata": {
        "colab": {
          "base_uri": "https://localhost:8080/",
          "height": 204
        },
        "id": "wgUKzv2zxNt6",
        "outputId": "91f9ef5f-b300-4ad0-f495-985112f500b3"
      },
      "source": [
        "df = pd.read_csv('/content/GE.csv')\n",
        "df.head() #displays feature column"
      ],
      "execution_count": null,
      "outputs": [
        {
          "output_type": "execute_result",
          "data": {
            "text/html": [
              "<div>\n",
              "<style scoped>\n",
              "    .dataframe tbody tr th:only-of-type {\n",
              "        vertical-align: middle;\n",
              "    }\n",
              "\n",
              "    .dataframe tbody tr th {\n",
              "        vertical-align: top;\n",
              "    }\n",
              "\n",
              "    .dataframe thead th {\n",
              "        text-align: right;\n",
              "    }\n",
              "</style>\n",
              "<table border=\"1\" class=\"dataframe\">\n",
              "  <thead>\n",
              "    <tr style=\"text-align: right;\">\n",
              "      <th></th>\n",
              "      <th>Date</th>\n",
              "      <th>Open</th>\n",
              "      <th>High</th>\n",
              "      <th>Low</th>\n",
              "      <th>Close</th>\n",
              "      <th>Adj Close</th>\n",
              "      <th>Volume</th>\n",
              "    </tr>\n",
              "  </thead>\n",
              "  <tbody>\n",
              "    <tr>\n",
              "      <th>0</th>\n",
              "      <td>2020-04-13</td>\n",
              "      <td>7.13</td>\n",
              "      <td>7.13</td>\n",
              "      <td>6.76</td>\n",
              "      <td>7.02</td>\n",
              "      <td>6.986340</td>\n",
              "      <td>94074500</td>\n",
              "    </tr>\n",
              "    <tr>\n",
              "      <th>1</th>\n",
              "      <td>2020-04-14</td>\n",
              "      <td>7.10</td>\n",
              "      <td>7.24</td>\n",
              "      <td>6.84</td>\n",
              "      <td>6.93</td>\n",
              "      <td>6.896772</td>\n",
              "      <td>107067200</td>\n",
              "    </tr>\n",
              "    <tr>\n",
              "      <th>2</th>\n",
              "      <td>2020-04-15</td>\n",
              "      <td>6.73</td>\n",
              "      <td>6.73</td>\n",
              "      <td>6.35</td>\n",
              "      <td>6.50</td>\n",
              "      <td>6.468834</td>\n",
              "      <td>138220800</td>\n",
              "    </tr>\n",
              "    <tr>\n",
              "      <th>3</th>\n",
              "      <td>2020-04-16</td>\n",
              "      <td>6.48</td>\n",
              "      <td>6.54</td>\n",
              "      <td>6.20</td>\n",
              "      <td>6.24</td>\n",
              "      <td>6.210080</td>\n",
              "      <td>165678200</td>\n",
              "    </tr>\n",
              "    <tr>\n",
              "      <th>4</th>\n",
              "      <td>2020-04-17</td>\n",
              "      <td>6.47</td>\n",
              "      <td>6.94</td>\n",
              "      <td>6.34</td>\n",
              "      <td>6.84</td>\n",
              "      <td>6.807204</td>\n",
              "      <td>165907800</td>\n",
              "    </tr>\n",
              "  </tbody>\n",
              "</table>\n",
              "</div>"
            ],
            "text/plain": [
              "         Date  Open  High   Low  Close  Adj Close     Volume\n",
              "0  2020-04-13  7.13  7.13  6.76   7.02   6.986340   94074500\n",
              "1  2020-04-14  7.10  7.24  6.84   6.93   6.896772  107067200\n",
              "2  2020-04-15  6.73  6.73  6.35   6.50   6.468834  138220800\n",
              "3  2020-04-16  6.48  6.54  6.20   6.24   6.210080  165678200\n",
              "4  2020-04-17  6.47  6.94  6.34   6.84   6.807204  165907800"
            ]
          },
          "metadata": {
            "tags": []
          },
          "execution_count": 2
        }
      ]
    },
    {
      "cell_type": "code",
      "metadata": {
        "id": "j_U-gOPEweAU"
      },
      "source": [
        "#Separate dates for future plotting\n",
        "train_dates = pd.to_datetime(df['Date'])"
      ],
      "execution_count": null,
      "outputs": []
    },
    {
      "cell_type": "code",
      "metadata": {
        "colab": {
          "base_uri": "https://localhost:8080/",
          "height": 282
        },
        "id": "BQWnrA6Owime",
        "outputId": "823925d8-dd72-4d09-d44e-14585c464b8f"
      },
      "source": [
        "#Variables for training\n",
        "cols = list(df)[1:6] #extracts relevant features i.e from column 1 (Open) to Column 5 (Adj Close)\n",
        "\n",
        "df_for_training = df[cols].astype(float)\n",
        "df_for_plot=df_for_training.tail(5000)\n",
        "df_for_plot.plot.line()"
      ],
      "execution_count": null,
      "outputs": [
        {
          "output_type": "execute_result",
          "data": {
            "text/plain": [
              "<matplotlib.axes._subplots.AxesSubplot at 0x7f331f8b27d0>"
            ]
          },
          "metadata": {
            "tags": []
          },
          "execution_count": 4
        },
        {
          "output_type": "display_data",
          "data": {
            "image/png": "[encoded data removed]",
            "text/plain": [
              "<Figure size 432x288 with 1 Axes>"
            ]
          },
          "metadata": {
            "tags": [],
            "needs_background": "light"
          }
        }
      ]
    },
    {
      "cell_type": "code",
      "metadata": {
        "id": "qQdPmUDMwpHA",
        "colab": {
          "base_uri": "https://localhost:8080/"
        },
        "outputId": "3882ff02-86c3-420c-e7d4-55aa0566f2c9"
      },
      "source": [
        "#LSTM uses sigmoid and tanh that are sensitive to magnitude so values need to be normalized\n",
        "#normalize the dataset\n",
        "scaler = StandardScaler()\n",
        "scaler = scaler.fit(df_for_training)\n",
        "df_for_training_scaled = scaler.transform(df_for_training)\n",
        "df_for_training_scaled"
      ],
      "execution_count": null,
      "outputs": [
        {
          "output_type": "execute_result",
          "data": {
            "text/plain": [
              "array([[-0.62936169, -0.68478389, -0.7168296 , -0.66632603, -0.6707062 ],\n",
              "       [-0.641084  , -0.64232895, -0.68512209, -0.70137867, -0.70548719],\n",
              "       [-0.78565909, -0.83916549, -0.87933055, -0.8688524 , -0.87166379],\n",
              "       ...,\n",
              "       [ 1.82060009,  1.78532173,  1.85940507,  1.814622  ,  1.81595882],\n",
              "       [ 1.765896  ,  1.77374311,  1.79202662,  1.83799043,  1.83925798],\n",
              "       [ 1.85967444,  1.90110793,  1.92282007,  1.89641149,  1.89750588]])"
            ]
          },
          "metadata": {
            "tags": []
          },
          "execution_count": 5
        }
      ]
    },
    {
      "cell_type": "code",
      "metadata": {
        "id": "dlaBLhIMwweU"
      },
      "source": [
        "#As required for LSTM networks, we require to reshape an input data into n_samples x timesteps x n_features. \n",
        "\n",
        "trainX = []\n",
        "trainY = []"
      ],
      "execution_count": null,
      "outputs": []
    },
    {
      "cell_type": "code",
      "metadata": {
        "id": "2SmHeW9cwzC8"
      },
      "source": [
        "n_future = 1   # Number of days we want to predict into the future\n",
        "n_past = 14     # Number of past days we want to use to predict the future"
      ],
      "execution_count": null,
      "outputs": []
    },
    {
      "cell_type": "code",
      "metadata": {
        "colab": {
          "base_uri": "https://localhost:8080/"
        },
        "id": "M-Gprl96w1xC",
        "outputId": "a3fc9e8d-24a4-4bbd-846e-9ed6495dbf54"
      },
      "source": [
        "for i in range(n_past, len(df_for_training_scaled) - n_future +1):\n",
        "    trainX.append(df_for_training_scaled[i - n_past:i, 0:df_for_training.shape[1]])\n",
        "    trainY.append(df_for_training_scaled[i + n_future - 1:i + n_future, 0])\n",
        "\n",
        "trainX, trainY = np.array(trainX), np.array(trainY)\n",
        "\n",
        "print('trainX shape == {}.'.format(trainX.shape))\n",
        "print('trainY shape == {}.'.format(trainY.shape))"
      ],
      "execution_count": null,
      "outputs": [
        {
          "output_type": "stream",
          "text": [
            "trainX shape == (237, 14, 5).\n",
            "trainY shape == (237, 1).\n"
          ],
          "name": "stdout"
        }
      ]
    },
    {
      "cell_type": "code",
      "metadata": {
        "id": "--Z2rIh_ilSe"
      },
      "source": [
        "#LSTMs with Attention\n",
        "\n",
        "class Attention(Layer):\n",
        "\n",
        "    def __init__(self, units=128, **kwargs):\n",
        "        self.units = units\n",
        "        super().__init__(**kwargs)\n",
        "\n",
        "    def __call__(self, inputs):\n",
        "        \"\"\"\n",
        "        Many-to-one attention mechanism for Keras.\n",
        "        @param inputs: 3D tensor with shape (batch_size, time_steps, input_dim).\n",
        "        @return: 2D tensor with shape (batch_size, 128)\n",
        "        @author: felixhao28, philipperemy.\n",
        "        \"\"\"\n",
        "        hidden_states = inputs\n",
        "        hidden_size = int(hidden_states.shape[2])\n",
        "        \n",
        "        # first we inpect what happens inside the first dense layer\n",
        "        #              hidden_states            dot               W            =>           score_first_part\n",
        "        # W is the trainable weight matrix -> in this case it is hidden size\n",
        "        score_first_part = Dense(hidden_size, use_bias=False, name='attention_score_vec')(hidden_states)\n",
        "        \n",
        "\n",
        "        #wraps an arbitrary expression as a layer object in this case it is simply the last hidden state of our last LSTM layer\n",
        "        h_t = Lambda(lambda x: x[:, -1, :], output_shape=(hidden_size,), name='last_hidden_state')(hidden_states) \n",
        "\n",
        "\n",
        "\n",
        "        #Dot layer simply computes a Dot Product\n",
        "        #In this case it is the Dot product of the attention score vector and the last hidden state which gives us the score of the attention \n",
        "        #we can use the score in order to train the attention layer as it is our goal to maximise it\n",
        "        score = Dot(axes=[1, 2], name='attention_score')([h_t, score_first_part])\n",
        "\n",
        "\n",
        "\n",
        "        #This simply applies the softmax activation function to our score\n",
        "        attention_weights = Activation('softmax', name='attention_weight')(score)\n",
        "\n",
        "\n",
        "        # In this section we calculate the dot product of the attention weights and the hidden states that are inout into our Aattention layer\n",
        "        # We then concatenate that context vector with the hidden states that we input to the attention layer\n",
        "        # We then take this and apply a normal dense layer with tanh activation which returns out attention vector\n",
        "        context_vector = Dot(axes=[1, 1], name='context_vector')([hidden_states, attention_weights])\n",
        "        pre_activation = Concatenate(name='attention_output')([context_vector, h_t])\n",
        "        attention_vector = Dense(self.units, use_bias=False, activation='tanh', name='attention_vector')(pre_activation)\n",
        "        return attention_vector\n",
        "\n",
        "    def get_config(self):\n",
        "        return {'units': self.units}\n",
        "\n",
        "    @classmethod\n",
        "    def from_config(cls, config):\n",
        "        return cls(**config)"
      ],
      "execution_count": null,
      "outputs": []
    },
    {
      "cell_type": "code",
      "metadata": {
        "colab": {
          "base_uri": "https://localhost:8080/"
        },
        "id": "GrsH3hY5ii_W",
        "outputId": "2c85f8ec-50b4-453c-bb92-0092dd4d96be"
      },
      "source": [
        "model = Sequential()\n",
        "model.add(LSTM(64, activation='relu', input_shape=(trainX.shape[1], trainX.shape[2]), return_sequences=True))\n",
        "model.add(LSTM(32, activation='relu', input_shape=(trainX.shape[1], trainX.shape[2]), return_sequences=True))\n",
        "model.add(LSTM(16, activation='relu', return_sequences=True))\n",
        "model.add(Attention(16))\n",
        "model.add(Dropout(0.2))\n",
        "model.add(Dense(trainY.shape[1]))\n",
        "\n",
        "model.compile(optimizer='adam', loss='mse')\n",
        "model.summary()"
      ],
      "execution_count": null,
      "outputs": [
        {
          "output_type": "stream",
          "text": [
            "Model: \"sequential_1\"\n",
            "_________________________________________________________________\n",
            "Layer (type)                 Output Shape              Param #   \n",
            "=================================================================\n",
            "lstm_3 (LSTM)                (None, 14, 64)            17920     \n",
            "_________________________________________________________________\n",
            "lstm_4 (LSTM)                (None, 14, 32)            12416     \n",
            "_________________________________________________________________\n",
            "lstm_5 (LSTM)                (None, 14, 16)            3136      \n",
            "_________________________________________________________________\n",
            "last_hidden_state (Lambda)   (None, 16)                0         \n",
            "_________________________________________________________________\n",
            "attention_score_vec (Dense)  (None, 14, 16)            256       \n",
            "_________________________________________________________________\n",
            "attention_score (Dot)        (None, 14)                0         \n",
            "_________________________________________________________________\n",
            "attention_weight (Activation (None, 14)                0         \n",
            "_________________________________________________________________\n",
            "context_vector (Dot)         (None, 16)                0         \n",
            "_________________________________________________________________\n",
            "attention_output (Concatenat (None, 32)                0         \n",
            "_________________________________________________________________\n",
            "attention_vector (Dense)     (None, 16)                512       \n",
            "_________________________________________________________________\n",
            "dropout_1 (Dropout)          (None, 16)                0         \n",
            "_________________________________________________________________\n",
            "dense_1 (Dense)              (None, 1)                 17        \n",
            "=================================================================\n",
            "Total params: 34,257\n",
            "Trainable params: 34,257\n",
            "Non-trainable params: 0\n",
            "_________________________________________________________________\n"
          ],
          "name": "stdout"
        }
      ]
    },
    {
      "cell_type": "code",
      "metadata": {
        "colab": {
          "base_uri": "https://localhost:8080/",
          "height": 622
        },
        "id": "D3DHuLMwi5Jh",
        "outputId": "19a57958-ca2a-4d86-f43f-10503d078ad7"
      },
      "source": [
        "history = model.fit(trainX, trainY, epochs=10, batch_size=10, validation_split=0.1, verbose=1)\n",
        "plt.plot(history.history['loss'], label='Training loss')\n",
        "plt.plot(history.history['val_loss'], label='Validation loss')\n",
        "plt.legend()"
      ],
      "execution_count": null,
      "outputs": [
        {
          "output_type": "stream",
          "text": [
            "Epoch 1/10\n",
            "22/22 [==============================] - 4s 54ms/step - loss: 0.5952 - val_loss: 1.0038\n",
            "Epoch 2/10\n",
            "22/22 [==============================] - 0s 18ms/step - loss: 0.1055 - val_loss: 0.7300\n",
            "Epoch 3/10\n",
            "22/22 [==============================] - 0s 17ms/step - loss: 0.0791 - val_loss: 0.1202\n",
            "Epoch 4/10\n",
            "22/22 [==============================] - 0s 17ms/step - loss: 0.0808 - val_loss: 0.4382\n",
            "Epoch 5/10\n",
            "22/22 [==============================] - 0s 17ms/step - loss: 0.0819 - val_loss: 0.2969\n",
            "Epoch 6/10\n",
            "22/22 [==============================] - 0s 17ms/step - loss: 0.0670 - val_loss: 0.2789\n",
            "Epoch 7/10\n",
            "22/22 [==============================] - 0s 18ms/step - loss: 0.0549 - val_loss: 0.1327\n",
            "Epoch 8/10\n",
            "22/22 [==============================] - 0s 17ms/step - loss: 0.0635 - val_loss: 0.2313\n",
            "Epoch 9/10\n",
            "22/22 [==============================] - 0s 17ms/step - loss: 0.0582 - val_loss: 0.2705\n",
            "Epoch 10/10\n",
            "22/22 [==============================] - 0s 18ms/step - loss: 0.0563 - val_loss: 0.2386\n"
          ],
          "name": "stdout"
        },
        {
          "output_type": "execute_result",
          "data": {
            "text/plain": [
              "<matplotlib.legend.Legend at 0x7f33189a3510>"
            ]
          },
          "metadata": {
            "tags": []
          },
          "execution_count": 11
        },
        {
          "output_type": "display_data",
          "data": {
            "image/png": "[encoded data removed]",
            "text/plain": [
              "<Figure size 432x288 with 1 Axes>"
            ]
          },
          "metadata": {
            "tags": [],
            "needs_background": "light"
          }
        }
      ]
    },
    {
      "cell_type": "code",
      "metadata": {
        "colab": {
          "base_uri": "https://localhost:8080/",
          "height": 469
        },
        "id": "AeAFwy1hi8HT",
        "outputId": "954edf41-5a87-429b-e7ac-c7b86538a261"
      },
      "source": [
        "n_future=24 #predicts the next 24 values\n",
        "forecast_period_dates = pd.date_range(list(train_dates)[-1], periods=n_future, freq='1d').tolist()\n",
        "\n",
        "forecast = model.predict(trainX[-n_future:]) \n",
        "forecast_copies = np.repeat(forecast, df_for_training.shape[1], axis=-1) #copy the columns so that the shape is correct\n",
        "y_pred_future = scaler.inverse_transform(forecast_copies)[:,0] #just look at 0 column which is the opening price\n",
        "forecast_dates = []\n",
        "\n",
        "for time_i in forecast_period_dates:\n",
        "    forecast_dates.append(time_i.date())\n",
        "\n",
        "df_forecast = pd.DataFrame({'Date':np.array(forecast_dates), 'Open':y_pred_future})\n",
        "df_forecast['Date']=pd.to_datetime(df_forecast['Date'])\n",
        "\n",
        "\n",
        "original = df[['Date', 'Open']]\n",
        "original['Date']=pd.to_datetime(original['Date'])\n",
        "original = original.loc[original['Date'] >= '2020-12-31']\n",
        "\n",
        "sns.lineplot(original['Date'], original['Open'])\n",
        "sns.lineplot(df_forecast['Date'], df_forecast['Open'])"
      ],
      "execution_count": null,
      "outputs": [
        {
          "output_type": "stream",
          "text": [
            "/usr/local/lib/python3.7/dist-packages/ipykernel_launcher.py:17: SettingWithCopyWarning: \n",
            "A value is trying to be set on a copy of a slice from a DataFrame.\n",
            "Try using .loc[row_indexer,col_indexer] = value instead\n",
            "\n",
            "See the caveats in the documentation: https://pandas.pydata.org/pandas-docs/stable/user_guide/indexing.html#returning-a-view-versus-a-copy\n",
            "/usr/local/lib/python3.7/dist-packages/seaborn/_decorators.py:43: FutureWarning: Pass the following variables as keyword args: x, y. From version 0.12, the only valid positional argument will be `data`, and passing other arguments without an explicit keyword will result in an error or misinterpretation.\n",
            "  FutureWarning\n",
            "/usr/local/lib/python3.7/dist-packages/seaborn/_decorators.py:43: FutureWarning: Pass the following variables as keyword args: x, y. From version 0.12, the only valid positional argument will be `data`, and passing other arguments without an explicit keyword will result in an error or misinterpretation.\n",
            "  FutureWarning\n"
          ],
          "name": "stderr"
        },
        {
          "output_type": "execute_result",
          "data": {
            "text/plain": [
              "<matplotlib.axes._subplots.AxesSubplot at 0x7f331772c490>"
            ]
          },
          "metadata": {
            "tags": []
          },
          "execution_count": 12
        },
        {
          "output_type": "display_data",
          "data": {
            "image/png": "[encoded data removed]",
            "text/plain": [
              "<Figure size 432x288 with 1 Axes>"
            ]
          },
          "metadata": {
            "tags": [],
            "needs_background": "light"
          }
        }
      ]
    }
  ]
}